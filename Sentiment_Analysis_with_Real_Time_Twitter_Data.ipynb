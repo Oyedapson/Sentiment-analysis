{
  "nbformat": 4,
  "nbformat_minor": 0,
  "metadata": {
    "colab": {
      "name": "Sentiment Analysis with Real Time Twitter Data.ipynb",
      "version": "0.3.2",
      "provenance": []
    },
    "kernelspec": {
      "display_name": "Python 3",
      "language": "python",
      "name": "python3"
    }
  },
  "cells": [
    {
      "metadata": {
        "id": "PwG4pVUiBX8A",
        "colab_type": "code",
        "colab": {}
      },
      "cell_type": "code",
      "source": [
        "# Sentiment Analysis with Real Time Twitter Data using StreamListener \n",
        "# with a Matplotplib\n",
        "#Created by Ismail Oyewole on 15/09/2018\n",
        "\n",
        "%matplotlib\n",
        "import time\n",
        "from tweepy import Stream\n",
        "from tweepy import OAuthHandler\n",
        "from tweepy.streaming import StreamListener\n",
        "import json\n",
        "from textblob import TextBlob       #Sentiment Analysis Package\n",
        "import matplotlib.pyplot as plt\n",
        "import re     # Regular Expression: specifies a set of strings that matches\n",
        "\n",
        "\n",
        "#\"# -- coding: utf-8 --\"\n",
        "\n",
        "def calctime(a):\n",
        "    return time.time()-a\n",
        "\n",
        "positive=0\n",
        "negative=0\n",
        "compound=0\n",
        "\n",
        "count=0\n",
        "initime=time.time()\n",
        "plt.ion()    # to display Interactive Plot with Matplot\n",
        "\n",
        "\n",
        "#keys Obtains from Twitter\n",
        "ckey= ''\n",
        "csecret= ''\n",
        "atoken=  ''\n",
        "asecret=  ''\n",
        "\n",
        "class listener(StreamListener):\n",
        "    \n",
        "    def on_data(self,data):\n",
        "        global initime\n",
        "        t=int(calctime(initime))\n",
        "           \n",
        "        all_data=json.loads(data)\n",
        "        tweet=all_data[\"text\"]\n",
        "        username=all_data[\"user\"][\"location\"]\n",
        "        tweet=\" \".join(re.findall(\"[a-zA-Z]+\", tweet))\n",
        "        blob=TextBlob(tweet.strip())     # the .strip() method returns an object with leading  & trailing whitespace Removed\n",
        "\n",
        "        global positive\n",
        "        global negative     \n",
        "        global compound  \n",
        "        global count\n",
        "        \n",
        "        count=count+1\n",
        "        senti=0\n",
        "        for sen in blob.sentences:\n",
        "            senti=senti+sen.sentiment.polarity\n",
        "            if sen.sentiment.polarity >= 0:\n",
        "                positive=positive+sen.sentiment.polarity   \n",
        "            else:\n",
        "                negative=negative+sen.sentiment.polarity  \n",
        "        compound=compound+senti        \n",
        "        print (count)\n",
        "        print (tweet.strip())\n",
        "        print (username)\n",
        "        print (senti)\n",
        "        print (t)\n",
        "        print (str(positive) + ' ' + str(negative) + ' ' + str(compound) )\n",
        "        \n",
        "    \n",
        "        plt.axis([ 0, 70, -20,20])\n",
        "        plt.xlabel('Time')\n",
        "        plt.ylabel('Sentiment')\n",
        "        plt.plot([t],[positive],'go',[t] ,[negative],'ro',[t],[compound],'bo')\n",
        "        plt.show()\n",
        "        plt.pause(0.0001)\n",
        "        \n",
        "        if count==10:\n",
        "            return False\n",
        "        else:\n",
        "            return True\n",
        "        \n",
        "    def on_error(self,status):\n",
        "        print (status)\n",
        "\n",
        "\n",
        "auth=OAuthHandler(ckey,csecret)\n",
        "auth.set_access_token(atoken,asecret)\n",
        "\n",
        "twitterStream= Stream(auth, listener(count))\n",
        "twitterStream.filter(track=[\"\"])  #search interested word\n"
      ],
      "execution_count": 0,
      "outputs": []
    },
    {
      "metadata": {
        "id": "4bgzdC4DBX8N",
        "colab_type": "code",
        "colab": {}
      },
      "cell_type": "code",
      "source": [
        ""
      ],
      "execution_count": 0,
      "outputs": []
    },
    {
      "metadata": {
        "id": "7I6LE2X_BX8W",
        "colab_type": "code",
        "colab": {}
      },
      "cell_type": "code",
      "source": [
        ""
      ],
      "execution_count": 0,
      "outputs": []
    },
    {
      "metadata": {
        "id": "gXK7qF_7BX8b",
        "colab_type": "code",
        "colab": {}
      },
      "cell_type": "code",
      "source": [
        ""
      ],
      "execution_count": 0,
      "outputs": []
    }
  ]
}